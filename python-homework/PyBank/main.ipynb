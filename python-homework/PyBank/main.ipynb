{
 "metadata": {
  "language_info": {
   "codemirror_mode": {
    "name": "ipython",
    "version": 3
   },
   "file_extension": ".py",
   "mimetype": "text/x-python",
   "name": "python",
   "nbconvert_exporter": "python",
   "pygments_lexer": "ipython3",
   "version": "3.8.8"
  },
  "orig_nbformat": 2,
  "kernelspec": {
   "name": "python3",
   "display_name": "Python 3.8.8 64-bit ('base': conda)"
  },
  "interpreter": {
   "hash": "52575ae80af061cc64d8b7f38a5cb1b871b63f9c1317091abcb24f04cea2ba60"
  }
 },
 "nbformat": 4,
 "nbformat_minor": 2,
 "cells": [
  {
   "cell_type": "code",
   "execution_count": 1,
   "metadata": {},
   "outputs": [],
   "source": [
    "\n",
    "# Import the pathlib and csv library\n",
    "from pathlib import Path\n",
    "import csv"
   ]
  },
  {
   "cell_type": "code",
   "execution_count": 2,
   "metadata": {},
   "outputs": [],
   "source": [
    "# Set the file path\n",
    "file_to_load = Path('C:/Users/Myles/Desktop/python-homework/PyBank/Resources/budget_data.csv')"
   ]
  },
  {
   "cell_type": "code",
   "execution_count": 3,
   "metadata": {
    "tags": []
   },
   "outputs": [
    {
     "output_type": "stream",
     "name": "stdout",
     "text": [
      "86\n38382578\n"
     ]
    }
   ],
   "source": [
    "#Open CSV File as an object and define variables\n",
    "\n",
    "total_months = 0\n",
    "month_of_change = []\n",
    "net_change_list = []\n",
    "total_net = 0\n",
    "avg_change = 0\n",
    "\n",
    "\n",
    "with open(file_to_load, 'r') as financial_data:\n",
    "    reader = csv.reader(financial_data)\n",
    "    \n",
    "    # Read the header row\n",
    "    header = next(reader)\n",
    "\n",
    "    # Extract first row to avoid appending to net_change_list\n",
    "    first_row = next(reader)\n",
    "    total_months = total_months + 1\n",
    "    total_net = total_net + int(first_row[1])\n",
    "    prev_net = int(first_row[1])\n",
    "\n",
    "   \n",
    "    for row in reader:\n",
    "        # Track the total\n",
    "        total_months = total_months + 1\n",
    "        total_net = total_net + int(row[1])\n",
    "        \n",
    "\n",
    "        # Track the net change\n",
    "        net_change = int(row[1]) - prev_net\n",
    "        prev_net = int(row[1])\n",
    "        net_change_list = net_change_list + [net_change]\n",
    "        month_of_change = month_of_change + [row[0]]\n",
    "        \n",
    "\n",
    "print(total_months)\n",
    "print(total_net)"
   ]
  },
  {
   "cell_type": "code",
   "execution_count": 4,
   "metadata": {},
   "outputs": [
    {
     "output_type": "stream",
     "name": "stdout",
     "text": [
      "-2196167\n1926159\nFeb-2012\nSep-2013\n"
     ]
    }
   ],
   "source": [
    "# Determine the greatest increase and decrease in profits\n",
    "\n",
    "# Profits\n",
    "greatest_increase = max(net_change_list)\n",
    "greatest_decrease = min(net_change_list)\n",
    "print(greatest_decrease)\n",
    "print(greatest_increase)\n",
    "\n",
    "# Month & Year\n",
    "greatest_increase_index = net_change_list.index(greatest_increase, 1, -1)\n",
    "greatest_increase_month = month_of_change[greatest_increase_index]\n",
    "print(greatest_increase_month)\n",
    "\n",
    "greatest_decrease_index = net_change_list.index(greatest_decrease, 1, -1)\n",
    "greatest_decrease_month = month_of_change[greatest_decrease_index]\n",
    "print(greatest_decrease_month)"
   ]
  },
  {
   "cell_type": "code",
   "execution_count": 5,
   "metadata": {},
   "outputs": [
    {
     "output_type": "stream",
     "name": "stdout",
     "text": [
      "-2315.12\n"
     ]
    }
   ],
   "source": [
    "# Find the average of the changes in Profit/Losses over the entire period.\n",
    "average_change = round((sum(net_change_list)/len(net_change_list)),2)\n",
    "print(average_change)"
   ]
  },
  {
   "cell_type": "code",
   "execution_count": 6,
   "metadata": {
    "tags": []
   },
   "outputs": [
    {
     "output_type": "stream",
     "name": "stdout",
     "text": [
      "\n    Financial Analysis\n     ------------------\n    Total Months: 86\n    Total: $38382578\n    Average Change: $-2315.12\n    Greatest Increase in Profits: Feb-2012 ($1926159)\n    Greatest Decrease in Profits: Sep-2013 ($-2196167)\n"
     ]
    }
   ],
   "source": [
    "# Print the results\n",
    "\n",
    "def output():\n",
    "    return f'''\n",
    "    Financial Analysis\n",
    "     ------------------\n",
    "    Total Months: {total_months}\n",
    "    Total: ${total_net}\n",
    "    Average Change: ${average_change}\n",
    "    Greatest Increase in Profits: {greatest_increase_month} (${greatest_increase})\n",
    "    Greatest Decrease in Profits: {greatest_decrease_month} (${greatest_decrease})'''\n",
    "    \n",
    "print(output())"
   ]
  },
  {
   "cell_type": "code",
   "execution_count": 7,
   "metadata": {},
   "outputs": [],
   "source": [
    "#Print output to txt file\n",
    "\n",
    "text = output()\n",
    "\n",
    "with open('output.txt', 'w') as output:\n",
    "    output.write(f\"{text}\")\n",
    "\n"
   ]
  },
  {
   "cell_type": "code",
   "execution_count": null,
   "metadata": {},
   "outputs": [],
   "source": []
  },
  {
   "cell_type": "code",
   "execution_count": null,
   "metadata": {},
   "outputs": [],
   "source": []
  },
  {
   "cell_type": "code",
   "execution_count": null,
   "metadata": {},
   "outputs": [],
   "source": []
  },
  {
   "cell_type": "code",
   "execution_count": null,
   "metadata": {},
   "outputs": [],
   "source": []
  },
  {
   "cell_type": "code",
   "execution_count": null,
   "metadata": {},
   "outputs": [],
   "source": []
  },
  {
   "cell_type": "code",
   "execution_count": null,
   "metadata": {},
   "outputs": [],
   "source": []
  },
  {
   "cell_type": "code",
   "execution_count": null,
   "metadata": {},
   "outputs": [],
   "source": []
  },
  {
   "cell_type": "code",
   "execution_count": null,
   "metadata": {},
   "outputs": [],
   "source": []
  },
  {
   "cell_type": "code",
   "execution_count": null,
   "metadata": {},
   "outputs": [],
   "source": []
  },
  {
   "cell_type": "code",
   "execution_count": null,
   "metadata": {},
   "outputs": [],
   "source": []
  },
  {
   "cell_type": "code",
   "execution_count": null,
   "metadata": {},
   "outputs": [],
   "source": []
  },
  {
   "cell_type": "code",
   "execution_count": null,
   "metadata": {},
   "outputs": [],
   "source": []
  },
  {
   "cell_type": "code",
   "execution_count": null,
   "metadata": {},
   "outputs": [],
   "source": []
  },
  {
   "cell_type": "code",
   "execution_count": null,
   "metadata": {},
   "outputs": [],
   "source": []
  },
  {
   "cell_type": "code",
   "execution_count": null,
   "metadata": {},
   "outputs": [],
   "source": []
  },
  {
   "cell_type": "code",
   "execution_count": null,
   "metadata": {},
   "outputs": [],
   "source": []
  },
  {
   "cell_type": "code",
   "execution_count": null,
   "metadata": {},
   "outputs": [],
   "source": []
  }
 ]
}