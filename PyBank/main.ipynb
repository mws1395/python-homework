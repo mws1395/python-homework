{
 "metadata": {
  "language_info": {
   "codemirror_mode": {
    "name": "ipython",
    "version": 3
   },
   "file_extension": ".py",
   "mimetype": "text/x-python",
   "name": "python",
   "nbconvert_exporter": "python",
   "pygments_lexer": "ipython3",
   "version": "3.8.8"
  },
  "orig_nbformat": 2,
  "kernelspec": {
   "name": "python388jvsc74a57bd052575ae80af061cc64d8b7f38a5cb1b871b63f9c1317091abcb24f04cea2ba60",
   "display_name": "Python 3.8.8 64-bit ('base': conda)"
  }
 },
 "nbformat": 4,
 "nbformat_minor": 2,
 "cells": [
  {
   "cell_type": "code",
   "execution_count": 1,
   "metadata": {},
   "outputs": [
    {
     "output_type": "stream",
     "name": "stdout",
     "text": [
      "Hello World!\n"
     ]
    }
   ],
   "source": [
    "print(\"Hello World!\")"
   ]
  },
  {
   "cell_type": "code",
   "execution_count": 2,
   "metadata": {},
   "outputs": [],
   "source": [
    "\n",
    "# Import the pathlib and csv library\n",
    "from pathlib import Path\n",
    "import csv"
   ]
  },
  {
   "cell_type": "code",
   "execution_count": 3,
   "metadata": {},
   "outputs": [],
   "source": [
    "# Set the file path\n",
    "file_to_load = Path('C:/Users/Myles/Desktop/python-homework/PyBank/Resources/budget_data.csv')"
   ]
  },
  {
   "cell_type": "code",
   "execution_count": 34,
   "metadata": {},
   "outputs": [
    {
     "output_type": "stream",
     "name": "stdout",
     "text": [
      "<class '_csv.reader'>\n['Date', 'Profit/Losses']\n{1852539}\n{2174552}\n{2105135}\n{2415638}\n{2938495}\n{3971591}\n{4576476}\n{4360090}\n{4837622}\n{5731432}\n{5651079}\n{6430885}\n{6095682}\n{6793527}\n{7586690}\n{8071760}\n{8655882}\n{8718611}\n{9386790}\n{10286696}\n{11121415}\n{11253418}\n{11563396}\n{10807830}\n{11978423}\n{12231211}\n{13382729}\n{14199985}\n{14770742}\n{15277444}\n{14254910}\n{14729972}\n{15509948}\n{15654123}\n{16196617}\n{16555950}\n{16877419}\n{16945199}\n{17416634}\n{17982237}\n{18854717}\n{19644197}\n{20644139}\n{19447914}\n{19716911}\n{19028925}\n{20179386}\n{20861844}\n{21479700}\n{22303798}\n{22885741}\n{23018605}\n{23466667}\n{24155828}\n{24956529}\n{26123172}\n{27070505}\n{27649173}\n{28637678}\n{29777393}\n{30806864}\n{31494397}\n{30969771}\n{31128391}\n{31216186}\n{31639575}\n{32480298}\n{33048827}\n{33380894}\n{34370393}\n{35148630}\n{35798630}\n{34698243}\n{34523297}\n{35280440}\n{35726149}\n{36439110}\n{35275313}\n{35845212}\n{36613662}\n{36716347}\n{37512261}\n{37573249}\n{37711479}\n{38382578}\n"
     ]
    }
   ],
   "source": [
    "#Open CSV File as an object and define variables\n",
    "\n",
    "total_months = 0\n",
    "month_of_change = []\n",
    "net_change_list = []\n",
    "greatest_increase = [\"\", 0]\n",
    "greatest_decrease = [\"\", 9999999999999999999]\n",
    "total_net = 0\n",
    "line_num = 0\n",
    "\n",
    "with open(file_to_load, 'r') as financial_data:\n",
    "    reader = csv.reader(financial_data)\n",
    "    print(type(reader))\n",
    "    \n",
    "    # Read the header row\n",
    "    header = next(reader)\n",
    "    line_num += 1\n",
    "    print(f\"{header}\")\n",
    "    \n",
    "    # Extract first row to avoid appending to net_change_list\n",
    "    first_row = next(reader)\n",
    "    total_months = total_months + 1\n",
    "    total_net = total_net + int(first_row[1])\n",
    "    prev_net = int(first_row[1])\n",
    "\n",
    "   \n",
    "    for row in reader:\n",
    "        # Track the total\n",
    "        total_months = total_months + 1\n",
    "        total_net = total_net + int(row[1])\n",
    "        \n",
    "\n",
    "        # Track the net change\n",
    "        net_change = int(row[1]) - prev_net\n",
    "        prev_net = int(row[1])\n",
    "        net_change_list = net_change_list + [net_change]\n",
    "        month_of_change = month_of_change + [row[0]]\n",
    "    \n",
    "        \n",
    "    # Track the average of the changes in Profit/Losses over the entire period.\n",
    "    average_change = total_net/total_months\n",
    "\n",
    "    # Track the greatest increase in profts (date and amount) over the entire period\n",
    "\n",
    "\n"
   ]
  },
  {
   "cell_type": "code",
   "execution_count": null,
   "metadata": {},
   "outputs": [],
   "source": []
  },
  {
   "cell_type": "code",
   "execution_count": null,
   "metadata": {},
   "outputs": [],
   "source": []
  },
  {
   "cell_type": "code",
   "execution_count": null,
   "metadata": {},
   "outputs": [],
   "source": []
  },
  {
   "cell_type": "code",
   "execution_count": null,
   "metadata": {},
   "outputs": [],
   "source": []
  },
  {
   "cell_type": "code",
   "execution_count": null,
   "metadata": {},
   "outputs": [],
   "source": []
  },
  {
   "cell_type": "code",
   "execution_count": null,
   "metadata": {},
   "outputs": [],
   "source": []
  },
  {
   "cell_type": "code",
   "execution_count": null,
   "metadata": {},
   "outputs": [],
   "source": []
  },
  {
   "cell_type": "code",
   "execution_count": null,
   "metadata": {},
   "outputs": [],
   "source": []
  },
  {
   "cell_type": "code",
   "execution_count": null,
   "metadata": {},
   "outputs": [],
   "source": []
  },
  {
   "cell_type": "code",
   "execution_count": 48,
   "metadata": {},
   "outputs": [],
   "source": [
    "output = Path('C:/Users/Myles/Desktop/python-homework/PyBank/Resources/budget_data_2.csv')"
   ]
  },
  {
   "cell_type": "code",
   "execution_count": 49,
   "metadata": {},
   "outputs": [],
   "source": [
    "with open(output, 'w') as csvfile:\n",
    "    cswriter = csv.writer(csvfile)"
   ]
  },
  {
   "cell_type": "code",
   "execution_count": null,
   "metadata": {},
   "outputs": [],
   "source": []
  },
  {
   "cell_type": "code",
   "execution_count": null,
   "metadata": {},
   "outputs": [],
   "source": []
  },
  {
   "cell_type": "code",
   "execution_count": null,
   "metadata": {},
   "outputs": [],
   "source": []
  },
  {
   "cell_type": "code",
   "execution_count": null,
   "metadata": {},
   "outputs": [],
   "source": []
  },
  {
   "cell_type": "code",
   "execution_count": null,
   "metadata": {},
   "outputs": [],
   "source": []
  },
  {
   "cell_type": "code",
   "execution_count": null,
   "metadata": {},
   "outputs": [],
   "source": []
  },
  {
   "cell_type": "code",
   "execution_count": null,
   "metadata": {},
   "outputs": [],
   "source": []
  },
  {
   "cell_type": "code",
   "execution_count": null,
   "metadata": {},
   "outputs": [],
   "source": []
  },
  {
   "cell_type": "code",
   "execution_count": null,
   "metadata": {},
   "outputs": [],
   "source": []
  },
  {
   "cell_type": "code",
   "execution_count": null,
   "metadata": {},
   "outputs": [],
   "source": []
  },
  {
   "cell_type": "code",
   "execution_count": null,
   "metadata": {},
   "outputs": [],
   "source": []
  },
  {
   "cell_type": "code",
   "execution_count": null,
   "metadata": {},
   "outputs": [],
   "source": []
  }
 ]
}